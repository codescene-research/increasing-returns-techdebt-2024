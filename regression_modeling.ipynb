{
 "cells": [
  {
   "cell_type": "markdown",
   "id": "b771c6d9",
   "metadata": {},
   "source": [
    "# Regression modeling for the Increasing Returns paper"
   ]
  },
  {
   "cell_type": "markdown",
   "id": "54f52135",
   "metadata": {},
   "source": [
    "This Jupyter Notebook evaluates polynomial degrees 1-4."
   ]
  },
  {
   "cell_type": "code",
   "execution_count": 3,
   "id": "96b48db4",
   "metadata": {},
   "outputs": [],
   "source": [
    "# Import libraries and configure this notebook\n",
    "import numpy as np\n",
    "import pandas as pd\n",
    "from scipy import stats"
   ]
  },
  {
   "cell_type": "code",
   "execution_count": 4,
   "id": "da1330aa",
   "metadata": {},
   "outputs": [
    {
     "data": {
      "text/html": [
       "<div>\n",
       "<style scoped>\n",
       "    .dataframe tbody tr th:only-of-type {\n",
       "        vertical-align: middle;\n",
       "    }\n",
       "\n",
       "    .dataframe tbody tr th {\n",
       "        vertical-align: top;\n",
       "    }\n",
       "\n",
       "    .dataframe thead th {\n",
       "        text-align: right;\n",
       "    }\n",
       "</style>\n",
       "<table border=\"1\" class=\"dataframe\">\n",
       "  <thead>\n",
       "    <tr style=\"text-align: right;\">\n",
       "      <th></th>\n",
       "      <th>code_health</th>\n",
       "      <th>lead_time_minutes</th>\n",
       "      <th>total_defects</th>\n",
       "    </tr>\n",
       "  </thead>\n",
       "  <tbody>\n",
       "    <tr>\n",
       "      <th>count</th>\n",
       "      <td>46211.000000</td>\n",
       "      <td>4.621100e+04</td>\n",
       "      <td>46211.000000</td>\n",
       "    </tr>\n",
       "    <tr>\n",
       "      <th>mean</th>\n",
       "      <td>9.604727</td>\n",
       "      <td>7.501023e+03</td>\n",
       "      <td>0.496830</td>\n",
       "    </tr>\n",
       "    <tr>\n",
       "      <th>std</th>\n",
       "      <td>1.070784</td>\n",
       "      <td>1.980885e+04</td>\n",
       "      <td>2.089526</td>\n",
       "    </tr>\n",
       "    <tr>\n",
       "      <th>min</th>\n",
       "      <td>1.000000</td>\n",
       "      <td>6.000000e+01</td>\n",
       "      <td>0.000000</td>\n",
       "    </tr>\n",
       "    <tr>\n",
       "      <th>25%</th>\n",
       "      <td>9.750000</td>\n",
       "      <td>1.380000e+03</td>\n",
       "      <td>0.000000</td>\n",
       "    </tr>\n",
       "    <tr>\n",
       "      <th>50%</th>\n",
       "      <td>10.000000</td>\n",
       "      <td>3.360000e+03</td>\n",
       "      <td>0.000000</td>\n",
       "    </tr>\n",
       "    <tr>\n",
       "      <th>75%</th>\n",
       "      <td>10.000000</td>\n",
       "      <td>7.680000e+03</td>\n",
       "      <td>0.000000</td>\n",
       "    </tr>\n",
       "    <tr>\n",
       "      <th>max</th>\n",
       "      <td>10.000000</td>\n",
       "      <td>1.452780e+06</td>\n",
       "      <td>110.000000</td>\n",
       "    </tr>\n",
       "  </tbody>\n",
       "</table>\n",
       "</div>"
      ],
      "text/plain": [
       "        code_health  lead_time_minutes  total_defects\n",
       "count  46211.000000       4.621100e+04   46211.000000\n",
       "mean       9.604727       7.501023e+03       0.496830\n",
       "std        1.070784       1.980885e+04       2.089526\n",
       "min        1.000000       6.000000e+01       0.000000\n",
       "25%        9.750000       1.380000e+03       0.000000\n",
       "50%       10.000000       3.360000e+03       0.000000\n",
       "75%       10.000000       7.680000e+03       0.000000\n",
       "max       10.000000       1.452780e+06     110.000000"
      ]
     },
     "execution_count": 4,
     "metadata": {},
     "output_type": "execute_result"
    }
   ],
   "source": [
    "increasing_returns_df = pd.read_csv('./data/increasing_returns.csv', sep=',', decimal=\".\")\n",
    "increasing_returns_df.describe()"
   ]
  },
  {
   "cell_type": "code",
   "execution_count": 6,
   "id": "5c2589e0",
   "metadata": {},
   "outputs": [],
   "source": [
    "# Definitions ############################################\n",
    "x_bugs=increasing_returns_df['code_health'].to_numpy()\n",
    "x_bugs_reshaped=x_bugs.reshape(-1, 1)\n",
    "y_bugs=increasing_returns_df['total_defects'].to_numpy()\n",
    "x_time=increasing_returns_df[increasing_returns_df['lead_time_minutes'].notna()]['code_health'].to_numpy()\n",
    "y_time=increasing_returns_df[increasing_returns_df['lead_time_minutes'].notna()]['lead_time_minutes'].to_numpy()\n",
    "x_time_reshaped=x_time.reshape(-1, 1)"
   ]
  },
  {
   "cell_type": "markdown",
   "id": "81b92818",
   "metadata": {},
   "source": [
    "## Selecting polynomial degree\n",
    "\n",
    "We explore polynomial regression models between degree one and four."
   ]
  },
  {
   "cell_type": "markdown",
   "id": "2df74678",
   "metadata": {},
   "source": [
    "### First degree for defects"
   ]
  },
  {
   "cell_type": "code",
   "execution_count": 7,
   "id": "75346ae6",
   "metadata": {},
   "outputs": [
    {
     "name": "stdout",
     "output_type": "stream",
     "text": [
      "R²: 0.031893007852112576\n",
      "MSE: 4.226777325185138\n",
      "RMSE: 2.055912771784138\n",
      "MAE: 0.7564276120435925\n"
     ]
    }
   ],
   "source": [
    "# Model ###############################\n",
    "p, cov = np.polyfit(x_bugs, y_bugs, 1, cov=True)  # Using a 1st degree polynomial\n",
    "PolReg_bugs_a, PolReg_bugs_b = p\n",
    "PolReg_bugs_a, PolReg_bugs_b = np.round(PolReg_bugs_a, 3), np.round(PolReg_bugs_b, 3)\n",
    "\n",
    "# Evaluate fit ###############################\n",
    "# The value indicates the proportion of the variance in the dependent variable \n",
    "# that is predictable from the independent variables.\n",
    "from sklearn.metrics import r2_score\n",
    "y_pred_full = np.polyval(p, x_bugs)\n",
    "r_squared = r2_score(y_bugs, y_pred_full)\n",
    "print('R²:', r_squared)\n",
    "\n",
    "# MSE is the average of the squares of the residuals, \n",
    "# and RMSE is its square root. They give an idea of how far the predictions are from the actual values.\n",
    "from sklearn.metrics import mean_squared_error\n",
    "mse = mean_squared_error(y_bugs, y_pred_full)\n",
    "rmse = np.sqrt(mse)\n",
    "print('MSE:', mse)\n",
    "print('RMSE:', rmse)\n",
    "\n",
    "# MAE is the average of the absolute differences between predictions and actual observations.\n",
    "from sklearn.metrics import mean_absolute_error\n",
    "mae = mean_absolute_error(y_bugs, y_pred_full)\n",
    "print('MAE:', mae)\n",
    "\n",
    "# Prediction ###############################\n",
    "x_new=np.arange(1,11)\n",
    "x_new_reshaped=x_new.reshape(-1, 1)\n",
    "y_pred=np.polyval(p, x_new)\n"
   ]
  },
  {
   "cell_type": "markdown",
   "id": "6637df9d",
   "metadata": {},
   "source": [
    "### Second degree for defects"
   ]
  },
  {
   "cell_type": "code",
   "execution_count": 8,
   "id": "67e44945",
   "metadata": {},
   "outputs": [
    {
     "name": "stdout",
     "output_type": "stream",
     "text": [
      "R²: 0.03201576755574176\n",
      "MSE: 4.226241353504369\n",
      "RMSE: 2.0557824188139096\n",
      "MAE: 0.757431777172496\n"
     ]
    }
   ],
   "source": [
    "# Model ###############################\n",
    "p, cov = np.polyfit(x_bugs, y_bugs, 2, cov=True)  # Using a 2nd degree polynomial\n",
    "PolReg_bugs_a, PolReg_bugs_b, PolReg_bugs_c = p\n",
    "PolReg_bugs_a, PolReg_bugs_b, PolReg_bugs_c = np.round(PolReg_bugs_a, 3), np.round(PolReg_bugs_b, 3), np.round(PolReg_bugs_c, 3)\n",
    "\n",
    "# Evaluate fit ###############################\n",
    "# The value indicates the proportion of the variance in the dependent variable \n",
    "# that is predictable from the independent variables.\n",
    "from sklearn.metrics import r2_score\n",
    "y_pred_full = np.polyval(p, x_bugs)\n",
    "r_squared = r2_score(y_bugs, y_pred_full)\n",
    "print('R²:', r_squared)\n",
    "\n",
    "# MSE is the average of the squares of the residuals, \n",
    "# and RMSE is its square root. They give an idea of how far the predictions are from the actual values.\n",
    "from sklearn.metrics import mean_squared_error\n",
    "mse = mean_squared_error(y_bugs, y_pred_full)\n",
    "rmse = np.sqrt(mse)\n",
    "print('MSE:', mse)\n",
    "print('RMSE:', rmse)\n",
    "\n",
    "# MAE is the average of the absolute differences between predictions and actual observations.\n",
    "from sklearn.metrics import mean_absolute_error\n",
    "mae = mean_absolute_error(y_bugs, y_pred_full)\n",
    "print('MAE:', mae)\n",
    "\n",
    "# Prediction ###############################\n",
    "x_new=np.arange(1,11)\n",
    "x_new_reshaped=x_new.reshape(-1, 1)\n",
    "y_pred=np.polyval(p, x_new)\n",
    "\n"
   ]
  },
  {
   "cell_type": "markdown",
   "id": "f95c0f57",
   "metadata": {},
   "source": [
    "### Third degree for defects"
   ]
  },
  {
   "cell_type": "code",
   "execution_count": 9,
   "id": "1ea95d34",
   "metadata": {},
   "outputs": [
    {
     "name": "stdout",
     "output_type": "stream",
     "text": [
      "R²: 0.03818945337036017\n",
      "MSE: 4.199286899682946\n",
      "RMSE: 2.0492161671436584\n",
      "MAE: 0.7477663699881618\n"
     ]
    }
   ],
   "source": [
    "# Model ###############################\n",
    "p,cov=np.polyfit(x_bugs,y_bugs,3,cov=True)\n",
    "PolReg_bugs_a,PolReg_bugs_b,PolReg_bugs_c,PolReg_bugs_d=p\n",
    "PolReg_bugs_a,PolReg_bugs_b,PolReg_bugs_c,PolReg_bugs_d=np.round(PolReg_bugs_a,3),np.round(PolReg_bugs_b,3),np.round(PolReg_bugs_c,3),np.round(PolReg_bugs_d,3)\n",
    "\n",
    "# Evaluate fit ###############################\n",
    "# The value indicates the proportion of the variance in the dependent variable \n",
    "# that is predictable from the independent variables.\n",
    "from sklearn.metrics import r2_score\n",
    "y_pred_full = np.polyval(p, x_bugs)\n",
    "r_squared = r2_score(y_bugs, y_pred_full)\n",
    "print('R²:', r_squared)\n",
    "\n",
    "# MSE is the average of the squares of the residuals, \n",
    "# and RMSE is its square root. They give an idea of how far the predictions are from the actual values.\n",
    "from sklearn.metrics import mean_squared_error\n",
    "mse = mean_squared_error(y_bugs, y_pred_full)\n",
    "rmse = np.sqrt(mse)\n",
    "print('MSE:', mse)\n",
    "print('RMSE:', rmse)\n",
    "\n",
    "# MAE is the average of the absolute differences between predictions and actual observations.\n",
    "from sklearn.metrics import mean_absolute_error\n",
    "mae = mean_absolute_error(y_bugs, y_pred_full)\n",
    "print('MAE:', mae)\n",
    "\n",
    "# Prediction ###############################\n",
    "x_new=np.arange(1,11)\n",
    "x_new_reshaped=x_new.reshape(-1, 1)\n",
    "y_pred=np.polyval(p, x_new)\n"
   ]
  },
  {
   "cell_type": "markdown",
   "id": "3ad9e925",
   "metadata": {},
   "source": [
    "### Fourth degree for defects"
   ]
  },
  {
   "cell_type": "code",
   "execution_count": 10,
   "id": "3bd9a7b5",
   "metadata": {},
   "outputs": [
    {
     "name": "stdout",
     "output_type": "stream",
     "text": [
      "R²: 0.038305116128036\n",
      "MSE: 4.198781913430933\n",
      "RMSE: 2.0490929489486156\n",
      "MAE: 0.7487997693111975\n"
     ]
    }
   ],
   "source": [
    "# Model ###############################\n",
    "p, cov = np.polyfit(x_bugs, y_bugs, 4, cov=True)  # Using a 4th degree polynomial\n",
    "PolReg_bugs_a, PolReg_bugs_b, PolReg_bugs_c, PolReg_bugs_d, PolReg_bugs_e = p\n",
    "PolReg_bugs_a, PolReg_bugs_b, PolReg_bugs_c, PolReg_bugs_d, PolReg_bugs_e = np.round(PolReg_bugs_a, 3), np.round(PolReg_bugs_b, 3), np.round(PolReg_bugs_c, 3), np.round(PolReg_bugs_d, 3), np.round(PolReg_bugs_e, 3)\n",
    "\n",
    "# Evaluate fit ###############################\n",
    "# The value indicates the proportion of the variance in the dependent variable \n",
    "# that is predictable from the independent variables.\n",
    "from sklearn.metrics import r2_score\n",
    "y_pred_full = np.polyval(p, x_bugs)\n",
    "r_squared = r2_score(y_bugs, y_pred_full)\n",
    "print('R²:', r_squared)\n",
    "\n",
    "# MSE is the average of the squares of the residuals, \n",
    "# and RMSE is its square root. They give an idea of how far the predictions are from the actual values.\n",
    "from sklearn.metrics import mean_squared_error\n",
    "mse = mean_squared_error(y_bugs, y_pred_full)\n",
    "rmse = np.sqrt(mse)\n",
    "print('MSE:', mse)\n",
    "print('RMSE:', rmse)\n",
    "\n",
    "# MAE is the average of the absolute differences between predictions and actual observations.\n",
    "from sklearn.metrics import mean_absolute_error\n",
    "mae = mean_absolute_error(y_bugs, y_pred_full)\n",
    "print('MAE:', mae)\n",
    "\n",
    "# Prediction ###############################\n",
    "x_new=np.arange(1,11)\n",
    "x_new_reshaped=x_new.reshape(-1, 1)\n",
    "y_pred=np.polyval(p, x_new)"
   ]
  },
  {
   "cell_type": "markdown",
   "id": "f7ba4e74",
   "metadata": {},
   "source": [
    "### First degree for time-in-development"
   ]
  },
  {
   "cell_type": "code",
   "execution_count": 11,
   "id": "a6651605",
   "metadata": {},
   "outputs": [
    {
     "name": "stdout",
     "output_type": "stream",
     "text": [
      "R²: 0.005475034414668789\n",
      "MSE: 390233645.82924205\n",
      "RMSE: 19754.332330636793\n",
      "MAE: 7202.704334439978\n"
     ]
    }
   ],
   "source": [
    "# Model ###############################\n",
    "p, cov = np.polyfit(x_time, y_time, 1, cov=True)\n",
    "PolReg_time_a,PolReg_time_b=p\n",
    "PolReg_time_a, PolReg_time_b = np.round(PolReg_time_a, 3), np.round(PolReg_time_b, 3)\n",
    "\n",
    "# Evaluate fit ###############################\n",
    "# The value indicates the proportion of the variance in the dependent variable \n",
    "# that is predictable from the independent variables.\n",
    "from sklearn.metrics import r2_score\n",
    "y_pred_full = np.polyval(p, x_time)\n",
    "r_squared = r2_score(y_time, y_pred_full)\n",
    "print('R²:', r_squared)\n",
    "\n",
    "# MSE is the average of the squares of the residuals, \n",
    "# and RMSE is its square root. They give an idea of how far the predictions are from the actual values.\n",
    "from sklearn.metrics import mean_squared_error\n",
    "mse = mean_squared_error(y_time, y_pred_full)\n",
    "rmse = np.sqrt(mse)\n",
    "print('MSE:', mse)\n",
    "print('RMSE:', rmse)\n",
    "\n",
    "# MAE is the average of the absolute differences between predictions and actual observations.\n",
    "from sklearn.metrics import mean_absolute_error\n",
    "mae = mean_absolute_error(y_time, y_pred_full)\n",
    "print('MAE:', mae)\n",
    "\n",
    "# Prediction ###############################\n",
    "x_new=np.arange(1,11)\n",
    "x_new_reshaped=x_new.reshape(-1, 1)\n",
    "y_pred=np.polyval(p, x_new)\n"
   ]
  },
  {
   "cell_type": "markdown",
   "id": "98f22ea7",
   "metadata": {},
   "source": [
    "### Second degree for time-in-development"
   ]
  },
  {
   "cell_type": "code",
   "execution_count": 12,
   "id": "a49fe2ef",
   "metadata": {},
   "outputs": [
    {
     "name": "stdout",
     "output_type": "stream",
     "text": [
      "R²: 0.005941675929300283\n",
      "MSE: 390050544.1215411\n",
      "RMSE: 19749.69731721327\n",
      "MAE: 7209.650392941731\n"
     ]
    }
   ],
   "source": [
    "# Model ###############################\n",
    "p, cov = np.polyfit(x_time, y_time, 2, cov=True)\n",
    "PolReg_time_a, PolReg_time_b, PolReg_time_c = p\n",
    "PolReg_time_a, PolReg_time_b, PolReg_time_c = np.round(PolReg_time_a, 3), np.round(PolReg_time_b, 3), np.round(PolReg_time_c, 3)\n",
    "\n",
    "# Evaluate fit ###############################\n",
    "# The value indicates the proportion of the variance in the dependent variable \n",
    "# that is predictable from the independent variables.\n",
    "from sklearn.metrics import r2_score\n",
    "y_pred_full = np.polyval(p, x_time)\n",
    "r_squared = r2_score(y_time, y_pred_full)\n",
    "print('R²:', r_squared)\n",
    "\n",
    "# MSE is the average of the squares of the residuals, \n",
    "# and RMSE is its square root. They give an idea of how far the predictions are from the actual values.\n",
    "from sklearn.metrics import mean_squared_error\n",
    "mse = mean_squared_error(y_time, y_pred_full)\n",
    "rmse = np.sqrt(mse)\n",
    "print('MSE:', mse)\n",
    "print('RMSE:', rmse)\n",
    "\n",
    "# MAE is the average of the absolute differences between predictions and actual observations.\n",
    "from sklearn.metrics import mean_absolute_error\n",
    "mae = mean_absolute_error(y_time, y_pred_full)\n",
    "print('MAE:', mae)\n",
    "\n",
    "# Prediction ###############################\n",
    "x_new=np.arange(1,11)\n",
    "x_new_reshaped=x_new.reshape(-1, 1)\n",
    "y_pred=np.polyval(p, x_new)\n"
   ]
  },
  {
   "cell_type": "markdown",
   "id": "e99227e5",
   "metadata": {},
   "source": [
    "### Third degree for time-in-development"
   ]
  },
  {
   "cell_type": "code",
   "execution_count": 13,
   "id": "21d83a57",
   "metadata": {},
   "outputs": [
    {
     "name": "stdout",
     "output_type": "stream",
     "text": [
      "R²: 0.006051479304528429\n",
      "MSE: 390007459.25899625\n",
      "RMSE: 19748.60651435934\n",
      "MAE: 7209.310835179671\n"
     ]
    }
   ],
   "source": [
    "# Model ###############################\n",
    "p, cov = np.polyfit(x_time, y_time, 3, cov=True)\n",
    "PolReg_time_a,PolReg_time_b,PolReg_time_c,PolReg_time_d=p\n",
    "PolReg_time_a,PolReg_time_b,PolReg_time_c,PolReg_time_d=np.round(PolReg_time_a,3),np.round(PolReg_time_b,3),np.round(PolReg_time_c,3),np.round(PolReg_time_d,3)\n",
    "\n",
    "# Evaluate fit ###############################\n",
    "# The value indicates the proportion of the variance in the dependent variable \n",
    "# that is predictable from the independent variables.\n",
    "from sklearn.metrics import r2_score\n",
    "y_pred_full = np.polyval(p, x_time)\n",
    "r_squared = r2_score(y_time, y_pred_full)\n",
    "print('R²:', r_squared)\n",
    "\n",
    "# MSE is the average of the squares of the residuals, \n",
    "# and RMSE is its square root. They give an idea of how far the predictions are from the actual values.\n",
    "from sklearn.metrics import mean_squared_error\n",
    "mse = mean_squared_error(y_time, y_pred_full)\n",
    "rmse = np.sqrt(mse)\n",
    "print('MSE:', mse)\n",
    "print('RMSE:', rmse)\n",
    "\n",
    "# MAE is the average of the absolute differences between predictions and actual observations.\n",
    "from sklearn.metrics import mean_absolute_error\n",
    "mae = mean_absolute_error(y_time, y_pred_full)\n",
    "print('MAE:', mae)\n",
    "\n",
    "# Prediction ###############################\n",
    "x_new=np.arange(1,11)\n",
    "x_new_reshaped=x_new.reshape(-1, 1)\n",
    "y_pred=np.polyval(p, x_new)\n"
   ]
  },
  {
   "cell_type": "markdown",
   "id": "94590b85",
   "metadata": {},
   "source": [
    "### Fourth degree for time-in-development"
   ]
  },
  {
   "cell_type": "code",
   "execution_count": 14,
   "id": "65f40c0a",
   "metadata": {},
   "outputs": [
    {
     "name": "stdout",
     "output_type": "stream",
     "text": [
      "R²: 0.006053296885630499\n",
      "MSE: 390006746.07297826\n",
      "RMSE: 19748.58845773485\n",
      "MAE: 7209.072792540109\n"
     ]
    }
   ],
   "source": [
    "# Model ###############################\n",
    "p, cov = np.polyfit(x_time, y_time, 4, cov=True)\n",
    "PolReg_time_a, PolReg_time_b, PolReg_time_c, PolReg_time_d, PolReg_time_e = p\n",
    "PolReg_time_a, PolReg_time_b, PolReg_time_c, PolReg_time_d, PolReg_time_e = np.round(PolReg_time_a, 3), np.round(PolReg_time_b, 3), np.round(PolReg_time_c, 3), np.round(PolReg_time_d, 3), np.round(PolReg_time_e, 3)\n",
    "\n",
    "# Evaluate fit ###############################\n",
    "# The value indicates the proportion of the variance in the dependent variable \n",
    "# that is predictable from the independent variables.\n",
    "from sklearn.metrics import r2_score\n",
    "y_pred_full = np.polyval(p, x_time)\n",
    "r_squared = r2_score(y_time, y_pred_full)\n",
    "print('R²:', r_squared)\n",
    "\n",
    "# MSE is the average of the squares of the residuals, \n",
    "# and RMSE is its square root. They give an idea of how far the predictions are from the actual values.\n",
    "from sklearn.metrics import mean_squared_error\n",
    "mse = mean_squared_error(y_time, y_pred_full)\n",
    "rmse = np.sqrt(mse)\n",
    "print('MSE:', mse)\n",
    "print('RMSE:', rmse)\n",
    "\n",
    "# MAE is the average of the absolute differences between predictions and actual observations.\n",
    "from sklearn.metrics import mean_absolute_error\n",
    "mae = mean_absolute_error(y_time, y_pred_full)\n",
    "print('MAE:', mae)\n",
    "\n",
    "# Prediction ###############################\n",
    "x_new=np.arange(1,11)\n",
    "x_new_reshaped=x_new.reshape(-1, 1)\n",
    "y_pred=np.polyval(p, x_new)\n"
   ]
  },
  {
   "cell_type": "markdown",
   "id": "77db8997",
   "metadata": {},
   "source": [
    "We decide to continue with the third degree polynomial."
   ]
  }
 ],
 "metadata": {
  "kernelspec": {
   "display_name": "Python 3 (ipykernel)",
   "language": "python",
   "name": "python3"
  },
  "language_info": {
   "codemirror_mode": {
    "name": "ipython",
    "version": 3
   },
   "file_extension": ".py",
   "mimetype": "text/x-python",
   "name": "python",
   "nbconvert_exporter": "python",
   "pygments_lexer": "ipython3",
   "version": "3.9.13"
  }
 },
 "nbformat": 4,
 "nbformat_minor": 5
}
