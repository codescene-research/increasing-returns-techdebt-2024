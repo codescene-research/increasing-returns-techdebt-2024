{
 "cells": [
  {
   "cell_type": "markdown",
   "metadata": {},
   "source": [
    "# Creating the pooled dataset"
   ]
  },
  {
   "cell_type": "markdown",
   "metadata": {},
   "source": [
    "This notebook combines publicly available data from two previous papers:\n",
    "\n",
    "- Tornhill and Borg. <b>Code Red</b>: The Business Impact of Code Quality - A Quantitative Study of 39 Proprietary Production Codebases, In Proc. of the 5th International Conference on Techincal Debt, 2022.\n",
    "- Borg, Tornhill, and Mones. <b>U Owns the Code</b> That Changes and How Marginal Owners Resolve Issues Slower in Low-Quality Source Code, In Proc. of the 27th International Conference on Evaluation and Assessment in Software Engineering, 2023."
   ]
  },
  {
   "cell_type": "code",
   "execution_count": 1,
   "metadata": {},
   "outputs": [],
   "source": [
    "%reset -f"
   ]
  },
  {
   "cell_type": "code",
   "execution_count": 2,
   "metadata": {},
   "outputs": [],
   "source": [
    "# packages\n",
    "\n",
    "import numpy as np\n",
    "from sklearn.linear_model import LinearRegression\n",
    "import pandas as pd\n",
    "import matplotlib.pyplot as plt\n",
    "from sklearn.metrics import r2_score\n",
    "import sklearn\n",
    "from scipy import stats"
   ]
  },
  {
   "cell_type": "markdown",
   "metadata": {},
   "source": [
    "## Processing the Code Red data\n",
    "\n",
    "We import the complete Code Red dataset as preprocessed in the original study. We remove entries with invalid time information, then we rename and reorder columns."
   ]
  },
  {
   "cell_type": "code",
   "execution_count": 51,
   "metadata": {},
   "outputs": [
    {
     "name": "stdout",
     "output_type": "stream",
     "text": [
      "        code_health  lead_time_minutes  total_defects\n",
      "count  25386.000000       2.538600e+04   25386.000000\n",
      "mean       9.548462       8.573125e+03       0.341842\n",
      "std        1.174215       2.539253e+04       1.356946\n",
      "min        1.000000       6.000000e+01       0.000000\n",
      "25%        9.630000       1.560000e+03       0.000000\n",
      "50%       10.000000       3.360000e+03       0.000000\n",
      "75%       10.000000       8.014500e+03       0.000000\n",
      "max       10.000000       1.452780e+06      58.000000\n"
     ]
    }
   ],
   "source": [
    "raw_df_CodeRed = pd.read_csv('./data/code_health_ct_data_updated.csv', sep=';', decimal=\",\")\n",
    "valid_df_CodeRed = raw_df_CodeRed[(raw_df_CodeRed['mean_time_for_issue'] > 0)]\n",
    "valid_df_CodeRed.rename(columns={\"code_health_now\": \"code_health\", \"mean_time_for_issue\": \"lead_time_minutes\"}, inplace=True)\n",
    "clean_df_CodeRed=valid_df_CodeRed[['code_health', 'lead_time_minutes', 'total_defects', 'language']]\n",
    "print(clean_df_CodeRed.describe())"
   ]
  },
  {
   "cell_type": "markdown",
   "metadata": {},
   "source": [
    "## Processing the U Owns the Code data\n",
    "\n",
    "We first repeat the same processing as presented in the Jupyter Notebook accompanying the U Owns the Code paper. This results in a clean dataset, following the same argumentation as in the original study."
   ]
  },
  {
   "cell_type": "code",
   "execution_count": 56,
   "metadata": {},
   "outputs": [
    {
     "name": "stdout",
     "output_type": "stream",
     "text": [
      "       contributing_months_relative_norm  lead_time_minutes  module_ownership  \\\n",
      "count                       98696.000000       99387.000000      99387.000000   \n",
      "mean                            0.809825        6547.571010          0.486823   \n",
      "std                             0.319798       10718.583371          0.383404   \n",
      "min                             0.000000          60.000000          0.000000   \n",
      "25%                             0.675676         900.000000          0.101906   \n",
      "50%                             1.000000        3000.000000          0.416667   \n",
      "75%                             1.000000        7380.000000          0.923877   \n",
      "max                             1.000000       89160.000000          1.000000   \n",
      "\n",
      "       contributing_months    added_loc   code_health  \n",
      "count         99387.000000  99387.00000  99387.000000  \n",
      "mean             19.442835     19.18427      9.512839  \n",
      "std              20.563435     35.99349      1.076344  \n",
      "min               0.000000      1.00000      1.000000  \n",
      "25%               5.000000      2.00000      9.500000  \n",
      "50%              11.000000      6.00000     10.000000  \n",
      "75%              29.000000     19.00000     10.000000  \n",
      "max              95.000000    326.00000     10.000000  \n"
     ]
    }
   ],
   "source": [
    "raw_df_UOwns = pd.read_csv('./data/pm_knowledge_impact.csv', decimal=\".\")\n",
    "\n",
    "# Remove invalid entries\n",
    "valid_df_UOwns = raw_df_UOwns[(raw_df_UOwns['lead_time_minutes'] > 0) & (raw_df_UOwns['added_loc'] > 0)]\n",
    "\n",
    "# remove extremely long lead times and huge chunks of code\n",
    "clean_df_UOwns = valid_df_UOwns[(np.abs(stats.zscore(valid_df_UOwns['lead_time_minutes'])) < 3) & \n",
    "                    (np.abs(stats.zscore(valid_df_UOwns['added_loc'])) < 3)]\n",
    "\n",
    "print(clean_df_UOwns.describe())"
   ]
  },
  {
   "cell_type": "markdown",
   "metadata": {},
   "source": [
    "For convenience, we store a separate data frame with only Jira bug fixes."
   ]
  },
  {
   "cell_type": "code",
   "execution_count": 57,
   "metadata": {},
   "outputs": [
    {
     "name": "stdout",
     "output_type": "stream",
     "text": [
      "       contributing_months_relative_norm  lead_time_minutes  module_ownership  \\\n",
      "count                       14274.000000       14281.000000      14281.000000   \n",
      "mean                            0.877200        4602.148309          0.380215   \n",
      "std                             0.267515        9080.707411          0.353758   \n",
      "min                             0.000000          60.000000          0.000000   \n",
      "25%                             1.000000         180.000000          0.061538   \n",
      "50%                             1.000000        1680.000000          0.247525   \n",
      "75%                             1.000000        4680.000000          0.695987   \n",
      "max                             1.000000       88260.000000          1.000000   \n",
      "\n",
      "       contributing_months     added_loc   code_health  \n",
      "count         14281.000000  14281.000000  14281.000000  \n",
      "mean             22.482879     15.152090      9.283857  \n",
      "std              22.931215     31.135755      1.281988  \n",
      "min               0.000000      1.000000      1.000000  \n",
      "25%               6.000000      1.000000      9.170000  \n",
      "50%              15.000000      4.000000      9.750000  \n",
      "75%              28.000000     14.000000     10.000000  \n",
      "max              95.000000    325.000000     10.000000  \n"
     ]
    }
   ],
   "source": [
    "bug_df_UOwns=clean_df_UOwns[clean_df_UOwns['bug_fix']==True] \n",
    "\n",
    "print(bug_df_UOwns.describe())"
   ]
  },
  {
   "cell_type": "markdown",
   "metadata": {},
   "source": [
    "In contrast to the Code Red dataset, the U Owns the Code data represents <i>touches</i>, i.e., individual changes to files. To enable pooling of the data, we need to aggregate the data per file. We use the following approach:\n",
    "\n",
    "We group all touches to the same file ('module') and in store three values:\n",
    "- The average Code Health at the time of the touches.\n",
    "- The average time-in-development for the touches.\n",
    "- The total number of touches to the file that were bug fixes."
   ]
  },
  {
   "cell_type": "code",
   "execution_count": 64,
   "metadata": {},
   "outputs": [
    {
     "name": "stdout",
     "output_type": "stream",
     "text": [
      "        code_health  lead_time_minutes  total_defects\n",
      "count  20825.000000       20825.000000   20825.000000\n",
      "mean       9.673315        6194.114873       0.685762\n",
      "std        0.924667        9034.932586       2.716461\n",
      "min        1.000000          60.000000       0.000000\n",
      "25%        9.750000        1260.000000       0.000000\n",
      "50%       10.000000        3360.000000       0.000000\n",
      "75%       10.000000        7440.000000       0.000000\n",
      "max       10.000000       89160.000000     110.000000\n"
     ]
    },
    {
     "name": "stderr",
     "output_type": "stream",
     "text": [
      "F:\\Anaconda3\\lib\\site-packages\\ipykernel_launcher.py:2: FutureWarning: Sorting because non-concatenation axis is not aligned. A future version\n",
      "of pandas will change to not sort by default.\n",
      "\n",
      "To accept the future behavior, pass 'sort=False'.\n",
      "\n",
      "To retain the current behavior and silence the warning, pass 'sort=True'.\n",
      "\n",
      "  \n"
     ]
    }
   ],
   "source": [
    "reshaped_df_UOwns = pd.concat([clean_df_UOwns.groupby('module')[['code_health','lead_time_minutes']].mean().reset_index().set_index('module'),\n",
    "                    bug_df_UOwns.groupby('module')['ticket_id'].count().reset_index().set_index('module')], axis=1)\n",
    "\n",
    "# we collect language information\n",
    "lang_df=clean_df_UOwns[['module','programming_language']]\n",
    "lang_df=lang_df.drop_duplicates().set_index('module')\n",
    "reshaped_df_UOwns=reshaped_df_UOwns.join(lang_df)\n",
    "    \n",
    "reshaped_df_UOwns.rename(columns={\"ticket_id\": \"total_defects\", \"programming_language\": \"language\"}, inplace=True)\n",
    "\n",
    "# set total_defects to 0 for missing values\n",
    "reshaped_df_UOwns['total_defects'] = reshaped_df_UOwns['total_defects'].fillna(0)\n",
    "\n",
    "print(reshaped_df_UOwns.describe())"
   ]
  },
  {
   "cell_type": "markdown",
   "metadata": {},
   "source": [
    "## Merge the two dataframes and save the results"
   ]
  },
  {
   "cell_type": "code",
   "execution_count": 65,
   "metadata": {},
   "outputs": [
    {
     "name": "stdout",
     "output_type": "stream",
     "text": [
      "        code_health  lead_time_minutes  total_defects\n",
      "count  46211.000000       4.621100e+04   46211.000000\n",
      "mean       9.604727       7.501023e+03       0.496830\n",
      "std        1.070784       1.980885e+04       2.089526\n",
      "min        1.000000       6.000000e+01       0.000000\n",
      "25%        9.750000       1.380000e+03       0.000000\n",
      "50%       10.000000       3.360000e+03       0.000000\n",
      "75%       10.000000       7.680000e+03       0.000000\n",
      "max       10.000000       1.452780e+06     110.000000\n"
     ]
    }
   ],
   "source": [
    "increasing_returns_df=pd.concat([clean_df_CodeRed,reshaped_df_UOwns])\n",
    "print(increasing_returns_df.describe())"
   ]
  },
  {
   "cell_type": "code",
   "execution_count": 66,
   "metadata": {},
   "outputs": [],
   "source": [
    "increasing_returns_df.to_csv('increasing_returns.csv',index=False)"
   ]
  }
 ],
 "metadata": {
  "kernelspec": {
   "display_name": "Python 3",
   "language": "python",
   "name": "python3"
  },
  "language_info": {
   "codemirror_mode": {
    "name": "ipython",
    "version": 3
   },
   "file_extension": ".py",
   "mimetype": "text/x-python",
   "name": "python",
   "nbconvert_exporter": "python",
   "pygments_lexer": "ipython3",
   "version": "3.6.9"
  }
 },
 "nbformat": 4,
 "nbformat_minor": 5
}
